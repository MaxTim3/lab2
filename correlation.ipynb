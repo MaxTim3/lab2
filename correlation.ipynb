{
  "metadata": {
    "kernelspec": {
      "name": "python",
      "display_name": "Python (Pyodide)",
      "language": "python"
    },
    "language_info": {
      "codemirror_mode": {
        "name": "python",
        "version": 3
      },
      "file_extension": ".py",
      "mimetype": "text/x-python",
      "name": "python",
      "nbconvert_exporter": "python",
      "pygments_lexer": "ipython3",
      "version": "3.8"
    },
    "anaconda-cloud": {}
  },
  "nbformat_minor": 4,
  "nbformat": 4,
  "cells": [
    {
      "cell_type": "markdown",
      "source": "# Лабораторная работа - Корреляционный анализ в Python\n",
      "metadata": {}
    },
    {
      "cell_type": "markdown",
      "source": "### Цели\n\n* Часть 1: Набор данных\n* Часть 2: Диаграммы рассеяния и корреляционные переменные\n* Часть 3: Расчёт корреляции с Python\n* Часть 4: Визуализация",
      "metadata": {}
    },
    {
      "cell_type": "markdown",
      "source": "### История / Cценарий\n\nКорреляция является важной статистической зависимостью, которая может указывать, связаны ли линейные значения переменных.\n\nВ этой лабораторной работе вы узнаете, как использовать Python для расчета корреляции. В Части 1 Вы подготовите набор данных. В Части 2 Вы узнаете, как определить, являются ли переменные в данном наборе данных взаимозависимыми. Наконец, в Части 3, Вы будете использовать Python для вычисления корреляции между двумя наборами переменных.",
      "metadata": {}
    },
    {
      "cell_type": "markdown",
      "source": "### Необходимо:\n* Библиотеки Python: pandas, numpy, matplotlib, seaborn\n* Файл данных: brainsize.txt",
      "metadata": {}
    },
    {
      "cell_type": "markdown",
      "source": "## Часть 1: Набор данных",
      "metadata": {}
    },
    {
      "cell_type": "markdown",
      "source": "Вы будете использовать набор данных, который содержит выборку 40 студентов правшей с вводного курса по Психологии из университета Southwestern. Испытуемые прошли четыре субтеста (Vocabulary, Similarities, Block Design, и Picture Completion) для расчёта шкалы интеллекта взрослых по Векслеру. Исследователи использовали магнитно-резонансную томографию (МРТ) для определения размера мозга у субъектов. Также включены сведения о гендерных показателях и размере тела (рост и вес). Исследователи скрыли вес двух испытуемых и высоту одного из них по причинам конфиденциальности.\nДля набора данных были применены две простые модификации:\n\n1. Заменены вопросительные знаки, используемые для представления скрытых данных, описанных выше, строкой «NaN». Замена была выполнена, потому что Pandas не обрабатывает вопросительные знаки правильно.\n\n2. Заменены все символы табуляции запятыми, преобразуя набор данных в набор данных CSV.\n\nГотовый набор данных сохранён как `brainsize.txt`.",
      "metadata": {}
    },
    {
      "cell_type": "markdown",
      "source": "#### Шаг 1: Загрузка набора данных из файла.\n\nДо того, как набор данных можно использовать, он должен быть загружен в память.\n\nВ приведенном ниже коде первая строка импортирует модули `pandas` и определяет `pd` как дескриптор, который ссылается на один из модулей.\n\nВторая строка загружает CSV-файл набора данных в переменную с именем `brainFile`.\n\nТретья строка использует метод `read_csv()` из библиотеки `pandas`, чтобы преобразовать набор данных CSV, хранящийся в `brainFile` в кадр данных. Затем кадр данных хранится в переменной `brainFrame`.\n\nЗапустите ячейку ниже, чтобы выполнить описанные функции.",
      "metadata": {}
    },
    {
      "cell_type": "code",
      "source": "import pandas as pd\n\n\nbrainFrame = pd.read_csv(\"brainsize.txt\", delimiter='\\t')",
      "metadata": {
        "trusted": true
      },
      "outputs": [],
      "execution_count": 3
    },
    {
      "cell_type": "markdown",
      "source": "#### Шаг 2. Проверка кадра данных.\n\nЧтобы убедиться, что кадр данных правильно загружен и создан, используйте метод `head()`. Метод `head()` отображает первые пять записей в кадре данных.",
      "metadata": {}
    },
    {
      "cell_type": "code",
      "source": "brainFrame.head()",
      "metadata": {
        "trusted": true
      },
      "outputs": [
        {
          "execution_count": 4,
          "output_type": "execute_result",
          "data": {
            "text/plain": "   Gender  FSIQ  VIQ  PIQ  Weight  Height  MRI_Count\n0  Female   133  132  124   118.0    64.5     816932\n1    Male   140  150  124     NaN    72.5    1001121\n2    Male   139  123  150   143.0    73.3    1038437\n3    Male   133  129  128   172.0    68.8     965353\n4  Female   137  132  134   147.0    65.0     951545",
            "text/html": "<div>\n<style scoped>\n    .dataframe tbody tr th:only-of-type {\n        vertical-align: middle;\n    }\n\n    .dataframe tbody tr th {\n        vertical-align: top;\n    }\n\n    .dataframe thead th {\n        text-align: right;\n    }\n</style>\n<table border=\"1\" class=\"dataframe\">\n  <thead>\n    <tr style=\"text-align: right;\">\n      <th></th>\n      <th>Gender</th>\n      <th>FSIQ</th>\n      <th>VIQ</th>\n      <th>PIQ</th>\n      <th>Weight</th>\n      <th>Height</th>\n      <th>MRI_Count</th>\n    </tr>\n  </thead>\n  <tbody>\n    <tr>\n      <th>0</th>\n      <td>Female</td>\n      <td>133</td>\n      <td>132</td>\n      <td>124</td>\n      <td>118.0</td>\n      <td>64.5</td>\n      <td>816932</td>\n    </tr>\n    <tr>\n      <th>1</th>\n      <td>Male</td>\n      <td>140</td>\n      <td>150</td>\n      <td>124</td>\n      <td>NaN</td>\n      <td>72.5</td>\n      <td>1001121</td>\n    </tr>\n    <tr>\n      <th>2</th>\n      <td>Male</td>\n      <td>139</td>\n      <td>123</td>\n      <td>150</td>\n      <td>143.0</td>\n      <td>73.3</td>\n      <td>1038437</td>\n    </tr>\n    <tr>\n      <th>3</th>\n      <td>Male</td>\n      <td>133</td>\n      <td>129</td>\n      <td>128</td>\n      <td>172.0</td>\n      <td>68.8</td>\n      <td>965353</td>\n    </tr>\n    <tr>\n      <th>4</th>\n      <td>Female</td>\n      <td>137</td>\n      <td>132</td>\n      <td>134</td>\n      <td>147.0</td>\n      <td>65.0</td>\n      <td>951545</td>\n    </tr>\n  </tbody>\n</table>\n</div>"
          },
          "metadata": {}
        }
      ],
      "execution_count": 4
    },
    {
      "cell_type": "markdown",
      "source": "Метод head() принимает параметр - число строк, отобразите первые 10 строк таблицы",
      "metadata": {}
    },
    {
      "cell_type": "code",
      "source": "brainFrame.head(10)",
      "metadata": {
        "trusted": true
      },
      "outputs": [
        {
          "execution_count": 5,
          "output_type": "execute_result",
          "data": {
            "text/plain": "   Gender  FSIQ  VIQ  PIQ  Weight  Height  MRI_Count\n0  Female   133  132  124   118.0    64.5     816932\n1    Male   140  150  124     NaN    72.5    1001121\n2    Male   139  123  150   143.0    73.3    1038437\n3    Male   133  129  128   172.0    68.8     965353\n4  Female   137  132  134   147.0    65.0     951545\n5  Female    99   90  110   146.0    69.0     928799\n6  Female   138  136  131   138.0    64.5     991305\n7  Female    92   90   98   175.0    66.0     854258\n8    Male    89   93   84   134.0    66.3     904858\n9    Male   133  114  147   172.0    68.8     955466",
            "text/html": "<div>\n<style scoped>\n    .dataframe tbody tr th:only-of-type {\n        vertical-align: middle;\n    }\n\n    .dataframe tbody tr th {\n        vertical-align: top;\n    }\n\n    .dataframe thead th {\n        text-align: right;\n    }\n</style>\n<table border=\"1\" class=\"dataframe\">\n  <thead>\n    <tr style=\"text-align: right;\">\n      <th></th>\n      <th>Gender</th>\n      <th>FSIQ</th>\n      <th>VIQ</th>\n      <th>PIQ</th>\n      <th>Weight</th>\n      <th>Height</th>\n      <th>MRI_Count</th>\n    </tr>\n  </thead>\n  <tbody>\n    <tr>\n      <th>0</th>\n      <td>Female</td>\n      <td>133</td>\n      <td>132</td>\n      <td>124</td>\n      <td>118.0</td>\n      <td>64.5</td>\n      <td>816932</td>\n    </tr>\n    <tr>\n      <th>1</th>\n      <td>Male</td>\n      <td>140</td>\n      <td>150</td>\n      <td>124</td>\n      <td>NaN</td>\n      <td>72.5</td>\n      <td>1001121</td>\n    </tr>\n    <tr>\n      <th>2</th>\n      <td>Male</td>\n      <td>139</td>\n      <td>123</td>\n      <td>150</td>\n      <td>143.0</td>\n      <td>73.3</td>\n      <td>1038437</td>\n    </tr>\n    <tr>\n      <th>3</th>\n      <td>Male</td>\n      <td>133</td>\n      <td>129</td>\n      <td>128</td>\n      <td>172.0</td>\n      <td>68.8</td>\n      <td>965353</td>\n    </tr>\n    <tr>\n      <th>4</th>\n      <td>Female</td>\n      <td>137</td>\n      <td>132</td>\n      <td>134</td>\n      <td>147.0</td>\n      <td>65.0</td>\n      <td>951545</td>\n    </tr>\n    <tr>\n      <th>5</th>\n      <td>Female</td>\n      <td>99</td>\n      <td>90</td>\n      <td>110</td>\n      <td>146.0</td>\n      <td>69.0</td>\n      <td>928799</td>\n    </tr>\n    <tr>\n      <th>6</th>\n      <td>Female</td>\n      <td>138</td>\n      <td>136</td>\n      <td>131</td>\n      <td>138.0</td>\n      <td>64.5</td>\n      <td>991305</td>\n    </tr>\n    <tr>\n      <th>7</th>\n      <td>Female</td>\n      <td>92</td>\n      <td>90</td>\n      <td>98</td>\n      <td>175.0</td>\n      <td>66.0</td>\n      <td>854258</td>\n    </tr>\n    <tr>\n      <th>8</th>\n      <td>Male</td>\n      <td>89</td>\n      <td>93</td>\n      <td>84</td>\n      <td>134.0</td>\n      <td>66.3</td>\n      <td>904858</td>\n    </tr>\n    <tr>\n      <th>9</th>\n      <td>Male</td>\n      <td>133</td>\n      <td>114</td>\n      <td>147</td>\n      <td>172.0</td>\n      <td>68.8</td>\n      <td>955466</td>\n    </tr>\n  </tbody>\n</table>\n</div>"
          },
          "metadata": {}
        }
      ],
      "execution_count": 5
    },
    {
      "cell_type": "markdown",
      "source": "Также Dataframe имеет метод tail(), который возвращает последние 5 строк кадра данных. Аналогично head() метод tail() принимает аргументом число строк, которые он вернет. Отобразите последние 8 строк таблицы.",
      "metadata": {}
    },
    {
      "cell_type": "code",
      "source": "brainFrame.tail(8)",
      "metadata": {
        "trusted": true
      },
      "outputs": [
        {
          "execution_count": 6,
          "output_type": "execute_result",
          "data": {
            "text/plain": "    Gender  FSIQ  VIQ  PIQ  Weight  Height  MRI_Count\n32    Male   103   96  110   192.0    75.5     997925\n33    Male    90   96   86   181.0    69.0     879987\n34  Female    83   90   81   143.0    66.5     834344\n35  Female   133  129  128   153.0    66.5     948066\n36    Male   140  150  124   144.0    70.5     949395\n37  Female    88   86   94   139.0    64.5     893983\n38    Male    81   90   74   148.0    74.0     930016\n39    Male    89   91   89   179.0    75.5     935863",
            "text/html": "<div>\n<style scoped>\n    .dataframe tbody tr th:only-of-type {\n        vertical-align: middle;\n    }\n\n    .dataframe tbody tr th {\n        vertical-align: top;\n    }\n\n    .dataframe thead th {\n        text-align: right;\n    }\n</style>\n<table border=\"1\" class=\"dataframe\">\n  <thead>\n    <tr style=\"text-align: right;\">\n      <th></th>\n      <th>Gender</th>\n      <th>FSIQ</th>\n      <th>VIQ</th>\n      <th>PIQ</th>\n      <th>Weight</th>\n      <th>Height</th>\n      <th>MRI_Count</th>\n    </tr>\n  </thead>\n  <tbody>\n    <tr>\n      <th>32</th>\n      <td>Male</td>\n      <td>103</td>\n      <td>96</td>\n      <td>110</td>\n      <td>192.0</td>\n      <td>75.5</td>\n      <td>997925</td>\n    </tr>\n    <tr>\n      <th>33</th>\n      <td>Male</td>\n      <td>90</td>\n      <td>96</td>\n      <td>86</td>\n      <td>181.0</td>\n      <td>69.0</td>\n      <td>879987</td>\n    </tr>\n    <tr>\n      <th>34</th>\n      <td>Female</td>\n      <td>83</td>\n      <td>90</td>\n      <td>81</td>\n      <td>143.0</td>\n      <td>66.5</td>\n      <td>834344</td>\n    </tr>\n    <tr>\n      <th>35</th>\n      <td>Female</td>\n      <td>133</td>\n      <td>129</td>\n      <td>128</td>\n      <td>153.0</td>\n      <td>66.5</td>\n      <td>948066</td>\n    </tr>\n    <tr>\n      <th>36</th>\n      <td>Male</td>\n      <td>140</td>\n      <td>150</td>\n      <td>124</td>\n      <td>144.0</td>\n      <td>70.5</td>\n      <td>949395</td>\n    </tr>\n    <tr>\n      <th>37</th>\n      <td>Female</td>\n      <td>88</td>\n      <td>86</td>\n      <td>94</td>\n      <td>139.0</td>\n      <td>64.5</td>\n      <td>893983</td>\n    </tr>\n    <tr>\n      <th>38</th>\n      <td>Male</td>\n      <td>81</td>\n      <td>90</td>\n      <td>74</td>\n      <td>148.0</td>\n      <td>74.0</td>\n      <td>930016</td>\n    </tr>\n    <tr>\n      <th>39</th>\n      <td>Male</td>\n      <td>89</td>\n      <td>91</td>\n      <td>89</td>\n      <td>179.0</td>\n      <td>75.5</td>\n      <td>935863</td>\n    </tr>\n  </tbody>\n</table>\n</div>"
          },
          "metadata": {}
        }
      ],
      "execution_count": 6
    },
    {
      "cell_type": "markdown",
      "source": "## Часть 2: Диаграммы рассеяния и корреляционные переменные",
      "metadata": {}
    },
    {
      "cell_type": "markdown",
      "source": "#### Шаг 1: метод `describe()` в библиотеке pandas.\nБиблиотека pandas включает в себя метод `describe()`, который выполняет одни и те же общие вычисления на предложенном наборе данных. Помимо базовых операций таких, как подсчёт, расчёт среднего значения, расчёт среднеквадратического отклонения, расчёт минимума, и максимума,  `describe()` также отличный способ быстро проверить достоверность значений в кадре данных.<p>\nНиже используйте функцию describe, для вывода статистики по данным",
      "metadata": {}
    },
    {
      "cell_type": "code",
      "source": "brainFrame.describe()",
      "metadata": {
        "trusted": true
      },
      "outputs": [
        {
          "execution_count": 7,
          "output_type": "execute_result",
          "data": {
            "text/plain": "             FSIQ         VIQ        PIQ      Weight     Height     MRI_Count\ncount   40.000000   40.000000   40.00000   38.000000  39.000000  4.000000e+01\nmean   113.450000  112.350000  111.02500  151.052632  68.525641  9.087550e+05\nstd     24.082071   23.616107   22.47105   23.478509   3.994649  7.228205e+04\nmin     77.000000   71.000000   72.00000  106.000000  62.000000  7.906190e+05\n25%     89.750000   90.000000   88.25000  135.250000  66.000000  8.559185e+05\n50%    116.500000  113.000000  115.00000  146.500000  68.000000  9.053990e+05\n75%    135.500000  129.750000  128.00000  172.000000  70.500000  9.500780e+05\nmax    144.000000  150.000000  150.00000  192.000000  77.000000  1.079549e+06",
            "text/html": "<div>\n<style scoped>\n    .dataframe tbody tr th:only-of-type {\n        vertical-align: middle;\n    }\n\n    .dataframe tbody tr th {\n        vertical-align: top;\n    }\n\n    .dataframe thead th {\n        text-align: right;\n    }\n</style>\n<table border=\"1\" class=\"dataframe\">\n  <thead>\n    <tr style=\"text-align: right;\">\n      <th></th>\n      <th>FSIQ</th>\n      <th>VIQ</th>\n      <th>PIQ</th>\n      <th>Weight</th>\n      <th>Height</th>\n      <th>MRI_Count</th>\n    </tr>\n  </thead>\n  <tbody>\n    <tr>\n      <th>count</th>\n      <td>40.000000</td>\n      <td>40.000000</td>\n      <td>40.00000</td>\n      <td>38.000000</td>\n      <td>39.000000</td>\n      <td>4.000000e+01</td>\n    </tr>\n    <tr>\n      <th>mean</th>\n      <td>113.450000</td>\n      <td>112.350000</td>\n      <td>111.02500</td>\n      <td>151.052632</td>\n      <td>68.525641</td>\n      <td>9.087550e+05</td>\n    </tr>\n    <tr>\n      <th>std</th>\n      <td>24.082071</td>\n      <td>23.616107</td>\n      <td>22.47105</td>\n      <td>23.478509</td>\n      <td>3.994649</td>\n      <td>7.228205e+04</td>\n    </tr>\n    <tr>\n      <th>min</th>\n      <td>77.000000</td>\n      <td>71.000000</td>\n      <td>72.00000</td>\n      <td>106.000000</td>\n      <td>62.000000</td>\n      <td>7.906190e+05</td>\n    </tr>\n    <tr>\n      <th>25%</th>\n      <td>89.750000</td>\n      <td>90.000000</td>\n      <td>88.25000</td>\n      <td>135.250000</td>\n      <td>66.000000</td>\n      <td>8.559185e+05</td>\n    </tr>\n    <tr>\n      <th>50%</th>\n      <td>116.500000</td>\n      <td>113.000000</td>\n      <td>115.00000</td>\n      <td>146.500000</td>\n      <td>68.000000</td>\n      <td>9.053990e+05</td>\n    </tr>\n    <tr>\n      <th>75%</th>\n      <td>135.500000</td>\n      <td>129.750000</td>\n      <td>128.00000</td>\n      <td>172.000000</td>\n      <td>70.500000</td>\n      <td>9.500780e+05</td>\n    </tr>\n    <tr>\n      <th>max</th>\n      <td>144.000000</td>\n      <td>150.000000</td>\n      <td>150.00000</td>\n      <td>192.000000</td>\n      <td>77.000000</td>\n      <td>1.079549e+06</td>\n    </tr>\n  </tbody>\n</table>\n</div>"
          },
          "metadata": {}
        }
      ],
      "execution_count": 7
    },
    {
      "cell_type": "markdown",
      "source": "#### Шаг 2: Диаграммы рассеяния\n\nДиаграммы рассеяния важны при работе с корреляциями, поскольку они позволяют быстро визуально проверить природу связи между переменными. В этой лабораторной работе используется коэффициент корреляции Пирсона, который чувствителен только к линейной зависимости между двумя переменными. Также существуют другие более надежные методы корреляции, но они выходят за рамки этой лабораторной работы.\n\n##### a. Загрузите необходимые модули.\nПрежде чем строить графики, необходимо импортировать несколько модулей, а именно `numpy` и `matplotlib`. Запустите ячейку ниже, чтобы загрузить эти модули.",
      "metadata": {}
    },
    {
      "cell_type": "code",
      "source": "import numpy as np\nimport matplotlib.pyplot as plt",
      "metadata": {
        "trusted": true
      },
      "outputs": [],
      "execution_count": 8
    },
    {
      "cell_type": "markdown",
      "source": "##### b. Разделите данные.\nЧтобы гарантировать, что результаты не будут искажены из-за различий в мужских и женских телах, кадр данных разбит на два: один содержит все мужские записи, а другой - только женские экземпляры. <p>\nСоздайте два новых кадра данных: menDf и womenDf, каждый из которых содержит соответствующие записи.",
      "metadata": {}
    },
    {
      "cell_type": "code",
      "source": "menDf = brainFrame[brainFrame[\"Gender\"] == \"Male\"]\nwomenDf = brainFrame[brainFrame[\"Gender\"] == \"Female\"]",
      "metadata": {
        "trusted": true
      },
      "outputs": [],
      "execution_count": 10
    },
    {
      "cell_type": "markdown",
      "source": "##### c. Постройте графики.\nПоскольку набор данных включает в себя три различных измерения интеллекта (PIQ, FSIQ и VIQ), первая строка ниже использует метод `mean()` из библиотеки Pandas для вычисления среднего значения между тремя измерениями и сохранения результата в переменной `menMeanSmarts`. Обратите внимание, что первая строка относится к menDf, отфильтрованному кадру данных, содержащему только мужские записи.<p>\nВторая строка использует метод `scatter()` библиотеки `matplotlib` для создания графика диаграммы рассеяния между переменной `menMeanSmarts` и атрибутом `MRI_Count`. MRI_Count в этом наборе данных можно рассматривать как меру физического размера мозга испытуемых.<p>\nТретья строка просто отображает график.<p>\nЧетвертая строка используется для гарантированного отображения графика в этом блокноте.",
      "metadata": {}
    },
    {
      "cell_type": "code",
      "source": "# Ячейка для кода № 6\nmenMeanSmarts = menDf[[\"PIQ\", \"FSIQ\", \"VIQ\"]].mean(axis=1)\nplt.scatter(menMeanSmarts, menDf[\"MRI_Count\"])\nplt.show()\n%matplotlib inline",
      "metadata": {
        "trusted": true
      },
      "outputs": [
        {
          "output_type": "display_data",
          "data": {
            "text/plain": "<Figure size 640x480 with 1 Axes>",
            "image/png": "[encoded data removed]"
          },
          "metadata": {}
        }
      ],
      "execution_count": 11
    },
    {
      "cell_type": "markdown",
      "source": "Аналогичным образом создайте график диаграммы рассеяния для кадра данных, содержащему только женские записи.",
      "metadata": {}
    },
    {
      "cell_type": "code",
      "source": "# Ячейка для кода № 7\n# Постройка графика диаграммы рассеяния для кадра данных с женскими записями\nwomenMeanSmarts = womenDf[[\"PIQ\", \"FSIQ\", \"VIQ\"]].mean(axis=1)\nplt.scatter(womenMeanSmarts, womenDf[\"MRI_Count\"])\nplt.show()\n%matplotlib inline",
      "metadata": {
        "scrolled": true,
        "trusted": true
      },
      "outputs": [
        {
          "output_type": "display_data",
          "data": {
            "text/plain": "<Figure size 640x480 with 1 Axes>",
            "image/png": "[encoded data removed]"
          },
          "metadata": {}
        }
      ],
      "execution_count": 12
    },
    {
      "cell_type": "markdown",
      "source": "## Часть 3: Вычисление корреляции с Python\n",
      "metadata": {}
    },
    {
      "cell_type": "markdown",
      "source": "#### Шаг 1: Рассчитайте корреляцию для brainFrame.\nМетод `corr()` библиотеки pandas обеспечивает простой способ вычисления корреляции для кадра данных. Просто применяя метод на кадре данных, можно получить корреляцию между всеми переменными одновременно.",
      "metadata": {}
    },
    {
      "cell_type": "code",
      "source": "brainFrame.drop(brainFrame.columns[0], axis=1).corr(method='pearson')",
      "metadata": {
        "trusted": true
      },
      "outputs": [
        {
          "execution_count": 13,
          "output_type": "execute_result",
          "data": {
            "text/plain": "               FSIQ       VIQ       PIQ    Weight    Height  MRI_Count\nFSIQ       1.000000  0.946639  0.934125 -0.051483 -0.086002   0.357641\nVIQ        0.946639  1.000000  0.778135 -0.076088 -0.071068   0.337478\nPIQ        0.934125  0.778135  1.000000  0.002512 -0.076723   0.386817\nWeight    -0.051483 -0.076088  0.002512  1.000000  0.699614   0.513378\nHeight    -0.086002 -0.071068 -0.076723  0.699614  1.000000   0.601712\nMRI_Count  0.357641  0.337478  0.386817  0.513378  0.601712   1.000000",
            "text/html": "<div>\n<style scoped>\n    .dataframe tbody tr th:only-of-type {\n        vertical-align: middle;\n    }\n\n    .dataframe tbody tr th {\n        vertical-align: top;\n    }\n\n    .dataframe thead th {\n        text-align: right;\n    }\n</style>\n<table border=\"1\" class=\"dataframe\">\n  <thead>\n    <tr style=\"text-align: right;\">\n      <th></th>\n      <th>FSIQ</th>\n      <th>VIQ</th>\n      <th>PIQ</th>\n      <th>Weight</th>\n      <th>Height</th>\n      <th>MRI_Count</th>\n    </tr>\n  </thead>\n  <tbody>\n    <tr>\n      <th>FSIQ</th>\n      <td>1.000000</td>\n      <td>0.946639</td>\n      <td>0.934125</td>\n      <td>-0.051483</td>\n      <td>-0.086002</td>\n      <td>0.357641</td>\n    </tr>\n    <tr>\n      <th>VIQ</th>\n      <td>0.946639</td>\n      <td>1.000000</td>\n      <td>0.778135</td>\n      <td>-0.076088</td>\n      <td>-0.071068</td>\n      <td>0.337478</td>\n    </tr>\n    <tr>\n      <th>PIQ</th>\n      <td>0.934125</td>\n      <td>0.778135</td>\n      <td>1.000000</td>\n      <td>0.002512</td>\n      <td>-0.076723</td>\n      <td>0.386817</td>\n    </tr>\n    <tr>\n      <th>Weight</th>\n      <td>-0.051483</td>\n      <td>-0.076088</td>\n      <td>0.002512</td>\n      <td>1.000000</td>\n      <td>0.699614</td>\n      <td>0.513378</td>\n    </tr>\n    <tr>\n      <th>Height</th>\n      <td>-0.086002</td>\n      <td>-0.071068</td>\n      <td>-0.076723</td>\n      <td>0.699614</td>\n      <td>1.000000</td>\n      <td>0.601712</td>\n    </tr>\n    <tr>\n      <th>MRI_Count</th>\n      <td>0.357641</td>\n      <td>0.337478</td>\n      <td>0.386817</td>\n      <td>0.513378</td>\n      <td>0.601712</td>\n      <td>1.000000</td>\n    </tr>\n  </tbody>\n</table>\n</div>"
          },
          "metadata": {}
        }
      ],
      "execution_count": 13
    },
    {
      "cell_type": "markdown",
      "source": "Обратите внимание на диагональ слева направо в таблице корреляции, сгенерированной выше. Почему диагональ заполнена значениями 1? Это совпадение? Объясните.",
      "metadata": {}
    },
    {
      "cell_type": "markdown",
      "source": "Значения на диагонали зависят сами от себя",
      "metadata": {}
    },
    {
      "cell_type": "markdown",
      "source": "Продолжая смотреть на таблицу корреляции выше, обратите внимание, что значения зеркалируются; значения под диагональю имеют зеркальный аналог над ней. Это совпадение? Объясните.",
      "metadata": {}
    },
    {
      "cell_type": "markdown",
      "source": "Кореляция показывает зависимость, а значения кореляции одних и тех же величин одинаковы.",
      "metadata": {}
    },
    {
      "cell_type": "markdown",
      "source": "Используя тот же метод `corr()`, вычислите корреляцию переменных, содержащихся в кадре с женскими записями:",
      "metadata": {}
    },
    {
      "cell_type": "code",
      "source": "womenDf.drop(womenDf.columns[0], axis=1).corr(method='pearson')",
      "metadata": {
        "trusted": true
      },
      "outputs": [
        {
          "execution_count": 14,
          "output_type": "execute_result",
          "data": {
            "text/plain": "               FSIQ       VIQ       PIQ    Weight    Height  MRI_Count\nFSIQ       1.000000  0.955717  0.939382  0.038192 -0.059011   0.325697\nVIQ        0.955717  1.000000  0.802652 -0.021889 -0.146453   0.254933\nPIQ        0.939382  0.802652  1.000000  0.113901 -0.001242   0.396157\nWeight     0.038192 -0.021889  0.113901  1.000000  0.552357   0.446271\nHeight    -0.059011 -0.146453 -0.001242  0.552357  1.000000   0.174541\nMRI_Count  0.325697  0.254933  0.396157  0.446271  0.174541   1.000000",
            "text/html": "<div>\n<style scoped>\n    .dataframe tbody tr th:only-of-type {\n        vertical-align: middle;\n    }\n\n    .dataframe tbody tr th {\n        vertical-align: top;\n    }\n\n    .dataframe thead th {\n        text-align: right;\n    }\n</style>\n<table border=\"1\" class=\"dataframe\">\n  <thead>\n    <tr style=\"text-align: right;\">\n      <th></th>\n      <th>FSIQ</th>\n      <th>VIQ</th>\n      <th>PIQ</th>\n      <th>Weight</th>\n      <th>Height</th>\n      <th>MRI_Count</th>\n    </tr>\n  </thead>\n  <tbody>\n    <tr>\n      <th>FSIQ</th>\n      <td>1.000000</td>\n      <td>0.955717</td>\n      <td>0.939382</td>\n      <td>0.038192</td>\n      <td>-0.059011</td>\n      <td>0.325697</td>\n    </tr>\n    <tr>\n      <th>VIQ</th>\n      <td>0.955717</td>\n      <td>1.000000</td>\n      <td>0.802652</td>\n      <td>-0.021889</td>\n      <td>-0.146453</td>\n      <td>0.254933</td>\n    </tr>\n    <tr>\n      <th>PIQ</th>\n      <td>0.939382</td>\n      <td>0.802652</td>\n      <td>1.000000</td>\n      <td>0.113901</td>\n      <td>-0.001242</td>\n      <td>0.396157</td>\n    </tr>\n    <tr>\n      <th>Weight</th>\n      <td>0.038192</td>\n      <td>-0.021889</td>\n      <td>0.113901</td>\n      <td>1.000000</td>\n      <td>0.552357</td>\n      <td>0.446271</td>\n    </tr>\n    <tr>\n      <th>Height</th>\n      <td>-0.059011</td>\n      <td>-0.146453</td>\n      <td>-0.001242</td>\n      <td>0.552357</td>\n      <td>1.000000</td>\n      <td>0.174541</td>\n    </tr>\n    <tr>\n      <th>MRI_Count</th>\n      <td>0.325697</td>\n      <td>0.254933</td>\n      <td>0.396157</td>\n      <td>0.446271</td>\n      <td>0.174541</td>\n      <td>1.000000</td>\n    </tr>\n  </tbody>\n</table>\n</div>"
          },
          "metadata": {}
        }
      ],
      "execution_count": 14
    },
    {
      "cell_type": "markdown",
      "source": "И то же самое можно сделать для переменных, содержащихся в кадре с мужскими записями:",
      "metadata": {}
    },
    {
      "cell_type": "code",
      "source": "# Используйте corr() для расчёта критерия корреляции Пирсона для кадра данных с мужчинами\nmenDf.drop(menDf.columns[0], axis=1).corr(method='pearson')",
      "metadata": {
        "trusted": true
      },
      "outputs": [
        {
          "execution_count": 15,
          "output_type": "execute_result",
          "data": {
            "text/plain": "               FSIQ       VIQ       PIQ    Weight    Height  MRI_Count\nFSIQ       1.000000  0.944400  0.930694 -0.278140 -0.356110   0.498369\nVIQ        0.944400  1.000000  0.766021 -0.350453 -0.355588   0.413105\nPIQ        0.930694  0.766021  1.000000 -0.156863 -0.287676   0.568237\nWeight    -0.278140 -0.350453 -0.156863  1.000000  0.406542  -0.076875\nHeight    -0.356110 -0.355588 -0.287676  0.406542  1.000000   0.301543\nMRI_Count  0.498369  0.413105  0.568237 -0.076875  0.301543   1.000000",
            "text/html": "<div>\n<style scoped>\n    .dataframe tbody tr th:only-of-type {\n        vertical-align: middle;\n    }\n\n    .dataframe tbody tr th {\n        vertical-align: top;\n    }\n\n    .dataframe thead th {\n        text-align: right;\n    }\n</style>\n<table border=\"1\" class=\"dataframe\">\n  <thead>\n    <tr style=\"text-align: right;\">\n      <th></th>\n      <th>FSIQ</th>\n      <th>VIQ</th>\n      <th>PIQ</th>\n      <th>Weight</th>\n      <th>Height</th>\n      <th>MRI_Count</th>\n    </tr>\n  </thead>\n  <tbody>\n    <tr>\n      <th>FSIQ</th>\n      <td>1.000000</td>\n      <td>0.944400</td>\n      <td>0.930694</td>\n      <td>-0.278140</td>\n      <td>-0.356110</td>\n      <td>0.498369</td>\n    </tr>\n    <tr>\n      <th>VIQ</th>\n      <td>0.944400</td>\n      <td>1.000000</td>\n      <td>0.766021</td>\n      <td>-0.350453</td>\n      <td>-0.355588</td>\n      <td>0.413105</td>\n    </tr>\n    <tr>\n      <th>PIQ</th>\n      <td>0.930694</td>\n      <td>0.766021</td>\n      <td>1.000000</td>\n      <td>-0.156863</td>\n      <td>-0.287676</td>\n      <td>0.568237</td>\n    </tr>\n    <tr>\n      <th>Weight</th>\n      <td>-0.278140</td>\n      <td>-0.350453</td>\n      <td>-0.156863</td>\n      <td>1.000000</td>\n      <td>0.406542</td>\n      <td>-0.076875</td>\n    </tr>\n    <tr>\n      <th>Height</th>\n      <td>-0.356110</td>\n      <td>-0.355588</td>\n      <td>-0.287676</td>\n      <td>0.406542</td>\n      <td>1.000000</td>\n      <td>0.301543</td>\n    </tr>\n    <tr>\n      <th>MRI_Count</th>\n      <td>0.498369</td>\n      <td>0.413105</td>\n      <td>0.568237</td>\n      <td>-0.076875</td>\n      <td>0.301543</td>\n      <td>1.000000</td>\n    </tr>\n  </tbody>\n</table>\n</div>"
          },
          "metadata": {}
        }
      ],
      "execution_count": 15
    },
    {
      "cell_type": "markdown",
      "source": "## Часть 4: Визуализация",
      "metadata": {}
    },
    {
      "cell_type": "markdown",
      "source": "#### Шаг 1: Установите Seaborn.\nЧтобы упростить визуализацию корреляций данных, можно использовать тепловую карту. На основе цветных квадратов тепловая карта может помочь выявить корреляции с первого взгляда.\n\nМодуль Python с именем `seaborn` очень упрощает построение тепловых карт.\n\nСначала запустите ячейку ниже, чтобы загрузить и установить модуль `seaborn`. (закомментируйте, если библиотека установлена)",
      "metadata": {}
    },
    {
      "cell_type": "code",
      "source": "# Ячейка для кода № 11\n!pip install seaborn",
      "metadata": {
        "trusted": true
      },
      "outputs": [
        {
          "ename": "<class 'OSError'>",
          "evalue": "Not available",
          "traceback": [
            "\u001b[0;31m---------------------------------------------------------------------------\u001b[0m",
            "\u001b[0;31mOSError\u001b[0m                                   Traceback (most recent call last)",
            "Cell \u001b[0;32mIn[23], line 2\u001b[0m\n\u001b[1;32m      1\u001b[0m \u001b[38;5;66;03m# Ячейка для кода № 11\u001b[39;00m\n\u001b[0;32m----> 2\u001b[0m \u001b[43mget_ipython\u001b[49m\u001b[43m(\u001b[49m\u001b[43m)\u001b[49m\u001b[38;5;241;43m.\u001b[39;49m\u001b[43msystem\u001b[49m\u001b[43m(\u001b[49m\u001b[38;5;124;43m'\u001b[39;49m\u001b[38;5;124;43mpip install seaborn\u001b[39;49m\u001b[38;5;124;43m'\u001b[39;49m\u001b[43m)\u001b[49m\n",
            "File \u001b[0;32m/lib/python3.12/site-packages/IPython/core/interactiveshell.py:2653\u001b[0m, in \u001b[0;36mInteractiveShell.system_piped\u001b[0;34m(self, cmd)\u001b[0m\n\u001b[1;32m   2648\u001b[0m     \u001b[38;5;28;01mraise\u001b[39;00m \u001b[38;5;167;01mOSError\u001b[39;00m(\u001b[38;5;124m\"\u001b[39m\u001b[38;5;124mBackground processes not supported.\u001b[39m\u001b[38;5;124m\"\u001b[39m)\n\u001b[1;32m   2650\u001b[0m \u001b[38;5;66;03m# we explicitly do NOT return the subprocess status code, because\u001b[39;00m\n\u001b[1;32m   2651\u001b[0m \u001b[38;5;66;03m# a non-None value would trigger :func:`sys.displayhook` calls.\u001b[39;00m\n\u001b[1;32m   2652\u001b[0m \u001b[38;5;66;03m# Instead, we store the exit_code in user_ns.\u001b[39;00m\n\u001b[0;32m-> 2653\u001b[0m \u001b[38;5;28mself\u001b[39m\u001b[38;5;241m.\u001b[39muser_ns[\u001b[38;5;124m'\u001b[39m\u001b[38;5;124m_exit_code\u001b[39m\u001b[38;5;124m'\u001b[39m] \u001b[38;5;241m=\u001b[39m \u001b[43msystem\u001b[49m\u001b[43m(\u001b[49m\u001b[38;5;28;43mself\u001b[39;49m\u001b[38;5;241;43m.\u001b[39;49m\u001b[43mvar_expand\u001b[49m\u001b[43m(\u001b[49m\u001b[43mcmd\u001b[49m\u001b[43m,\u001b[49m\u001b[43m \u001b[49m\u001b[43mdepth\u001b[49m\u001b[38;5;241;43m=\u001b[39;49m\u001b[38;5;241;43m1\u001b[39;49m\u001b[43m)\u001b[49m\u001b[43m)\u001b[49m\n",
            "File \u001b[0;32m/lib/python3.12/site-packages/IPython/utils/_process_emscripten.py:11\u001b[0m, in \u001b[0;36msystem\u001b[0;34m(cmd)\u001b[0m\n\u001b[1;32m     10\u001b[0m \u001b[38;5;28;01mdef\u001b[39;00m \u001b[38;5;21msystem\u001b[39m(cmd):\n\u001b[0;32m---> 11\u001b[0m     \u001b[38;5;28;01mraise\u001b[39;00m \u001b[38;5;167;01mOSError\u001b[39;00m(\u001b[38;5;124m\"\u001b[39m\u001b[38;5;124mNot available\u001b[39m\u001b[38;5;124m\"\u001b[39m)\n",
            "\u001b[0;31mOSError\u001b[0m: Not available"
          ],
          "output_type": "error"
        }
      ],
      "execution_count": 23
    },
    {
      "cell_type": "markdown",
      "source": "#### Шаг 2: Нарисуйте корреляционную тепловую карту.\n\nТеперь, когда кадры данных готовы, можно отобразить тепловые карты. Далее приведен анализ кода из ячейки ниже:\n\nСтрока 1: Создает таблицу корреляции, основанную на фрейме данных `womenNoGenderDf` и хранит его в `wcorr`.<br>\nСтрока 2: Использует метод `heatmap()` библиотеки `seaborn` для генерации и построения тепловой карты. Обратите внимание, что `heatmap()` принимает `wcorr`, как параметр.<br>\nСтрока 3: используется для экспорта и сохранения созданной тепловой карты в виде PNG-изображения. Хотя строка 3 не активна (перед ней стоит символ `#`, заставляя интерпретатор игнорировать ее), она сохранена в информационных целях.",
      "metadata": {}
    },
    {
      "cell_type": "code",
      "source": "# Ячейка для кода № 12\nimport seaborn as sns\n\nwcorr = womenDf.drop(womenDf.columns[0], axis=1).corr()\nsns.heatmap(wcorr)\n#plt.savefig('attribute_correlations.png', tight_layout=True)",
      "metadata": {
        "trusted": true
      },
      "outputs": [
        {
          "ename": "<class 'ModuleNotFoundError'>",
          "evalue": "No module named 'seaborn'",
          "traceback": [
            "\u001b[0;31m---------------------------------------------------------------------------\u001b[0m",
            "\u001b[0;31mModuleNotFoundError\u001b[0m                       Traceback (most recent call last)",
            "Cell \u001b[0;32mIn[21], line 2\u001b[0m\n\u001b[1;32m      1\u001b[0m \u001b[38;5;66;03m# Ячейка для кода № 12\u001b[39;00m\n\u001b[0;32m----> 2\u001b[0m \u001b[38;5;28;01mimport\u001b[39;00m \u001b[38;5;21;01mseaborn\u001b[39;00m \u001b[38;5;28;01mas\u001b[39;00m \u001b[38;5;21;01msns\u001b[39;00m\n\u001b[1;32m      4\u001b[0m wcorr \u001b[38;5;241m=\u001b[39m womenDf\u001b[38;5;241m.\u001b[39mdrop(womenDf\u001b[38;5;241m.\u001b[39mcolumns[\u001b[38;5;241m0\u001b[39m], axis\u001b[38;5;241m=\u001b[39m\u001b[38;5;241m1\u001b[39m)\u001b[38;5;241m.\u001b[39mcorr()\n\u001b[1;32m      5\u001b[0m sns\u001b[38;5;241m.\u001b[39mheatmap(wcorr)\n",
            "\u001b[0;31mModuleNotFoundError\u001b[0m: No module named 'seaborn'"
          ],
          "output_type": "error"
        }
      ],
      "execution_count": 21
    },
    {
      "cell_type": "markdown",
      "source": "Аналогичным образом создайте и отобразите тепловую карту для кадра данных с мужчинами.",
      "metadata": {}
    },
    {
      "cell_type": "code",
      "source": "# Ячейка для кода № 14\nmcorr = menDf.drop(menDf.columns[0], axis=1).corr()\nsns.heatmap(mcorr)\n#\n#",
      "metadata": {
        "trusted": true
      },
      "outputs": [
        {
          "ename": "<class 'NameError'>",
          "evalue": "name 'sns' is not defined",
          "traceback": [
            "\u001b[0;31m---------------------------------------------------------------------------\u001b[0m",
            "\u001b[0;31mNameError\u001b[0m                                 Traceback (most recent call last)",
            "Cell \u001b[0;32mIn[19], line 3\u001b[0m\n\u001b[1;32m      1\u001b[0m \u001b[38;5;66;03m# Ячейка для кода № 14\u001b[39;00m\n\u001b[1;32m      2\u001b[0m mcorr \u001b[38;5;241m=\u001b[39m menDf\u001b[38;5;241m.\u001b[39mdrop(menDf\u001b[38;5;241m.\u001b[39mcolumns[\u001b[38;5;241m0\u001b[39m], axis\u001b[38;5;241m=\u001b[39m\u001b[38;5;241m1\u001b[39m)\u001b[38;5;241m.\u001b[39mcorr()\n\u001b[0;32m----> 3\u001b[0m \u001b[43msns\u001b[49m\u001b[38;5;241m.\u001b[39mheatmap(mcorr)\n\u001b[1;32m      4\u001b[0m \u001b[38;5;66;03m#\u001b[39;00m\n\u001b[1;32m      5\u001b[0m \u001b[38;5;66;03m#\u001b[39;00m\n",
            "\u001b[0;31mNameError\u001b[0m: name 'sns' is not defined"
          ],
          "output_type": "error"
        }
      ],
      "execution_count": 19
    },
    {
      "cell_type": "markdown",
      "source": "У многих пар переменных корреляция близка к нулю. Что это значит?",
      "metadata": {}
    },
    {
      "cell_type": "markdown",
      "source": "У этих пар отсутсвует линейная зависимость",
      "metadata": {}
    },
    {
      "cell_type": "markdown",
      "source": "Зачем делать разделение по полу?",
      "metadata": {}
    },
    {
      "cell_type": "markdown",
      "source": "У мужчин и женщин в среднем разные физические данные (рост, вес)",
      "metadata": {}
    },
    {
      "cell_type": "markdown",
      "source": "Какие переменные имеют более сильную корреляцию с размером мозга (MRI_Count)? Это ожидалось? Объясните.",
      "metadata": {}
    },
    {
      "cell_type": "markdown",
      "source": "Это может бвть связано с физиологическими особенностями",
      "metadata": {}
    }
  ]
}